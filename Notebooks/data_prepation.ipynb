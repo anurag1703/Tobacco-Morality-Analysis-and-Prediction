{
 "cells": [
  {
   "cell_type": "code",
   "execution_count": 1,
   "metadata": {},
   "outputs": [
    {
     "name": "stdout",
     "output_type": "stream",
     "text": [
      "      Year                                         ICD10 Code  \\\n",
      "0  2014/15                                          All codes   \n",
      "1  2014/15  C33-C34 & C00-C14 & C15 & C32 & C53 & C67 & C6...   \n",
      "2  2014/15                                            C00-D48   \n",
      "3  2014/15                                            J00-J99   \n",
      "4  2014/15                                            I00-I99   \n",
      "\n",
      "                               ICD10 Diagnosis  \\\n",
      "0                               All admissions   \n",
      "1  All diseases which can be caused by smoking   \n",
      "2                                  All cancers   \n",
      "3                     All respiratory diseases   \n",
      "4                     All circulatory diseases   \n",
      "\n",
      "                                Diagnosis Type                Metric  Sex  \\\n",
      "0                               All admissions  Number of admissions  NaN   \n",
      "1  All diseases which can be caused by smoking  Number of admissions  NaN   \n",
      "2                                  All cancers  Number of admissions  NaN   \n",
      "3                     All respiratory diseases  Number of admissions  NaN   \n",
      "4                     All circulatory diseases  Number of admissions  NaN   \n",
      "\n",
      "      Value  \n",
      "0  11011882  \n",
      "1   1713330  \n",
      "2   1691035  \n",
      "3    611002  \n",
      "4    907157  \n",
      "   Year                                         ICD10 Code  \\\n",
      "0  2014                                          All codes   \n",
      "1  2014  C33-C34 & C00-C14 & C15 & C32 & C53 & C67 & C6...   \n",
      "2  2014                                            C00-D48   \n",
      "3  2014                                            J00-J99   \n",
      "4  2014                                            I00-I99   \n",
      "\n",
      "                             ICD10 Diagnosis  \\\n",
      "0                                 All deaths   \n",
      "1  All deaths which can be caused by smoking   \n",
      "2                                All cancers   \n",
      "3                   All respiratory diseases   \n",
      "4                   All circulatory diseases   \n",
      "\n",
      "                              Diagnosis Type                     Metric  Sex  \\\n",
      "0                                 All deaths  Number of observed deaths  NaN   \n",
      "1  All deaths which can be caused by smoking  Number of observed deaths  NaN   \n",
      "2                                All cancers  Number of observed deaths  NaN   \n",
      "3                   All respiratory diseases  Number of observed deaths  NaN   \n",
      "4                   All circulatory diseases  Number of observed deaths  NaN   \n",
      "\n",
      "    Value  \n",
      "0  459087  \n",
      "1  235820  \n",
      "2  136312  \n",
      "3   61744  \n",
      "4  126101  \n",
      "   Year  Tobacco Price\\nIndex  Retail Prices\\nIndex  \\\n",
      "0  2015                1294.3                 386.7   \n",
      "1  2014                1226.0                 383.0   \n",
      "2  2013                1139.3                 374.2   \n",
      "3  2012                1057.8                 363.1   \n",
      "4  2011                 974.9                 351.9   \n",
      "\n",
      "   Tobacco Price Index Relative to Retail Price Index  \\\n",
      "0                                              334.7    \n",
      "1                                              320.1    \n",
      "2                                              304.5    \n",
      "3                                              291.3    \n",
      "4                                              277.1    \n",
      "\n",
      "   Real Households' Disposable Income  Affordability of Tobacco Index  \\\n",
      "0                               196.4                            58.7   \n",
      "1                               190.0                            59.4   \n",
      "2                               190.3                            62.5   \n",
      "3                               192.9                            66.2   \n",
      "4                               189.3                            68.3   \n",
      "\n",
      "   Household Expenditure on Tobacco  Household Expenditure Total  \\\n",
      "0                           19252.0                    1152387.0   \n",
      "1                           19411.0                    1118992.0   \n",
      "2                           18683.0                    1073106.0   \n",
      "3                           18702.0                    1029378.0   \n",
      "4                           18217.0                     990828.0   \n",
      "\n",
      "   Expenditure on Tobacco as a Percentage of Expenditure  \n",
      "0                                                1.7      \n",
      "1                                                1.7      \n",
      "2                                                1.7      \n",
      "3                                                1.8      \n",
      "4                                                1.8      \n",
      "      Year  All Pharmacotherapy Prescriptions  \\\n",
      "0  2014/15                               1348   \n",
      "1  2013/14                               1778   \n",
      "2  2012/13                               2203   \n",
      "3  2011/12                               2532   \n",
      "4  2010/11                               2564   \n",
      "\n",
      "   Nicotine Replacement Therapy (NRT) Prescriptions  \\\n",
      "0                                               766   \n",
      "1                                              1059   \n",
      "2                                              1318   \n",
      "3                                              1545   \n",
      "4                                              1541   \n",
      "\n",
      "   Bupropion (Zyban) Prescriptions  Varenicline (Champix) Prescriptions  \\\n",
      "0                               21                                561.0   \n",
      "1                               22                                697.0   \n",
      "2                               26                                859.0   \n",
      "3                               30                                957.0   \n",
      "4                               36                                987.0   \n",
      "\n",
      "   Net Ingredient Cost of All Pharmacotherapies  \\\n",
      "0                                         38145   \n",
      "1                                         48767   \n",
      "2                                         58121   \n",
      "3                                         64552   \n",
      "4                                         65883   \n",
      "\n",
      "   Net Ingredient Cost of Nicotine Replacement Therapies (NRT)  \\\n",
      "0                                              18208             \n",
      "1                                              24257             \n",
      "2                                              28069             \n",
      "3                                              30951             \n",
      "4                                              30808             \n",
      "\n",
      "   Net Ingredient Cost of Bupropion (Zyban)  \\\n",
      "0                                       807   \n",
      "1                                       865   \n",
      "2                                       994   \n",
      "3                                      1216   \n",
      "4                                      1581   \n",
      "\n",
      "   Net Ingredient Cost of Varenicline (Champix)  \n",
      "0                                       19129.0  \n",
      "1                                       23646.0  \n",
      "2                                       29058.0  \n",
      "3                                       32385.0  \n",
      "4                                       33494.0  \n",
      "   Year      Method  Sex  16 and Over  16-24  25-34  35-49  50-59  60 and Over\n",
      "0  1974  Unweighted  NaN           46     44     51     52     50           33\n",
      "1  1976  Unweighted  NaN           42     42     45     48     48           30\n",
      "2  1978  Unweighted  NaN           40     39     45     45     45           30\n",
      "3  1980  Unweighted  NaN           39     37     46     44     45           29\n",
      "4  1982  Unweighted  NaN           35     35     38     39     41           27\n"
     ]
    }
   ],
   "source": [
    "import pandas as pd\n",
    "\n",
    "# Load datasets\n",
    "admissions = pd.read_csv(r'C:\\Users\\anura\\Desktop\\Tobacco Morality Prediction and Analysis\\Data\\admissions.csv') \n",
    "fatalities = pd.read_csv(r'C:\\Users\\anura\\Desktop\\Tobacco Morality Prediction and Analysis\\Data\\fatalities.csv')\n",
    "metrics = pd.read_csv(r'C:\\Users\\anura\\Desktop\\Tobacco Morality Prediction and Analysis\\Data\\metrics.csv')\n",
    "prescriptions = pd.read_csv(r'C:\\Users\\anura\\Desktop\\Tobacco Morality Prediction and Analysis\\Data\\prescriptions.csv')\n",
    "smokers = pd.read_csv(r'C:\\Users\\anura\\Desktop\\Tobacco Morality Prediction and Analysis\\Data\\smokers.csv')\n",
    "\n",
    "# Preview datasets\n",
    "print(admissions.head())\n",
    "print(fatalities.head())\n",
    "print(metrics.head())\n",
    "print(prescriptions.head())\n",
    "print(smokers.head())"
   ]
  },
  {
   "cell_type": "code",
   "execution_count": 2,
   "metadata": {},
   "outputs": [],
   "source": [
    "# Standardize column names for uniformity\n",
    "admissions.rename(columns={'year': 'Year'}, inplace=True)\n",
    "fatalities.rename(columns={'year': 'Year'}, inplace=True)\n",
    "metrics.rename(columns={'Year': 'Year'}, inplace=True)\n",
    "prescriptions.rename(columns={'Year': 'Year'}, inplace=True)\n",
    "smokers.rename(columns={'Year': 'Year'}, inplace=True)\n"
   ]
  },
  {
   "cell_type": "code",
   "execution_count": 3,
   "metadata": {},
   "outputs": [
    {
     "name": "stdout",
     "output_type": "stream",
     "text": [
      "Years in admissions: [2014 2013 2012 2011 2010 2009 2008 2007 2006 2005 2004]\n",
      "Years in fatalities: [2014 2013 2012 2011 2010 2009 2008 2007 2006 2005 2004]\n",
      "Years in metrics: [2015 2014 2013 2012 2011 2010 2009 2008 2007 2006 2005 2004 2003 2002\n",
      " 2001 2000 1999 1998 1997 1996 1995 1994 1993 1992 1991 1990 1989 1988\n",
      " 1987 1986 1985 1984 1983 1982 1981 1980]\n",
      "Years in prescriptions: [2014 2013 2012 2011 2010 2009 2008 2007 2006 2005 2004]\n",
      "Years in smokers: [1974 1976 1978 1980 1982 1984 1986 1988 1990 1992 1994 1996 1998 2000\n",
      " 2001 2002 2003 2004 2005 2006 2007 2008 2009 2010 2011 2012 2013 2014]\n"
     ]
    }
   ],
   "source": [
    "# Normalize Year column in admissions and prescriptions (YYYY/YYYY format)\n",
    "admissions['Year'] = admissions['Year'].str.split('/').str[0].astype(int)\n",
    "prescriptions['Year'] = prescriptions['Year'].str.split('/').str[0].astype(int)\n",
    "\n",
    "# Ensure Year columns in all datasets are integers\n",
    "fatalities['Year'] = fatalities['Year'].astype(int)\n",
    "metrics['Year'] = metrics['Year'].astype(int)\n",
    "smokers['Year'] = smokers['Year'].astype(int)\n",
    "\n",
    "# Verify the unique years after normalization\n",
    "print(\"Years in admissions:\", admissions['Year'].unique())\n",
    "print(\"Years in fatalities:\", fatalities['Year'].unique())\n",
    "print(\"Years in metrics:\", metrics['Year'].unique())\n",
    "print(\"Years in prescriptions:\", prescriptions['Year'].unique())\n",
    "print(\"Years in smokers:\", smokers['Year'].unique())"
   ]
  },
  {
   "cell_type": "code",
   "execution_count": 4,
   "metadata": {},
   "outputs": [
    {
     "name": "stdout",
     "output_type": "stream",
     "text": [
      "Common Years: {2004, 2005, 2006, 2007, 2008, 2009, 2010, 2011, 2012, 2013, 2014}\n"
     ]
    }
   ],
   "source": [
    "# Find common years across all datasets\n",
    "common_years = set(admissions['Year']).intersection(\n",
    "    fatalities['Year'],\n",
    "    metrics['Year'],\n",
    "    prescriptions['Year'],\n",
    "    smokers['Year']\n",
    ")\n",
    "\n",
    "print(\"Common Years:\", common_years)"
   ]
  },
  {
   "cell_type": "code",
   "execution_count": 5,
   "metadata": {},
   "outputs": [
    {
     "name": "stderr",
     "output_type": "stream",
     "text": [
      "C:\\Users\\anura\\AppData\\Local\\Temp\\ipykernel_19580\\1505980741.py:2: FutureWarning: DataFrame.fillna with 'method' is deprecated and will raise in a future version. Use obj.ffill() or obj.bfill() instead.\n",
      "  metrics.fillna(method='ffill', inplace=True)  # Forward fill\n",
      "C:\\Users\\anura\\AppData\\Local\\Temp\\ipykernel_19580\\1505980741.py:3: FutureWarning: DataFrame.fillna with 'method' is deprecated and will raise in a future version. Use obj.ffill() or obj.bfill() instead.\n",
      "  smokers.fillna(method='bfill', inplace=True)  # Backward fill\n",
      "C:\\Users\\anura\\AppData\\Local\\Temp\\ipykernel_19580\\1505980741.py:6: FutureWarning: DataFrame.interpolate with object dtype is deprecated and will raise in a future version. Call obj.infer_objects(copy=False) before interpolating instead.\n",
      "  admissions.interpolate(method='linear', inplace=True)\n",
      "C:\\Users\\anura\\AppData\\Local\\Temp\\ipykernel_19580\\1505980741.py:7: FutureWarning: DataFrame.interpolate with object dtype is deprecated and will raise in a future version. Call obj.infer_objects(copy=False) before interpolating instead.\n",
      "  fatalities.interpolate(method='linear', inplace=True)\n"
     ]
    }
   ],
   "source": [
    "# Fill missing data for numeric columns\n",
    "metrics.fillna(method='ffill', inplace=True)  # Forward fill\n",
    "smokers.fillna(method='bfill', inplace=True)  # Backward fill\n",
    "\n",
    "# Interpolate numeric time-series data\n",
    "admissions.interpolate(method='linear', inplace=True)\n",
    "fatalities.interpolate(method='linear', inplace=True)\n"
   ]
  },
  {
   "cell_type": "code",
   "execution_count": 6,
   "metadata": {},
   "outputs": [],
   "source": [
    "# Align datasets to common years\n",
    "admissions = admissions[admissions['Year'].isin(common_years)]\n",
    "fatalities = fatalities[fatalities['Year'].isin(common_years)]\n",
    "metrics = metrics[metrics['Year'].isin(common_years)]\n",
    "prescriptions = prescriptions[prescriptions['Year'].isin(common_years)]\n",
    "smokers = smokers[smokers['Year'].isin(common_years)]\n"
   ]
  },
  {
   "cell_type": "code",
   "execution_count": 7,
   "metadata": {},
   "outputs": [
    {
     "name": "stdout",
     "output_type": "stream",
     "text": [
      "   Year ICD10 Code_x ICD10 Diagnosis_x Diagnosis Type_x              Metric_x  \\\n",
      "0  2014    All codes    All admissions   All admissions  Number of admissions   \n",
      "1  2014    All codes    All admissions   All admissions  Number of admissions   \n",
      "2  2014    All codes    All admissions   All admissions  Number of admissions   \n",
      "3  2014    All codes    All admissions   All admissions  Number of admissions   \n",
      "4  2014    All codes    All admissions   All admissions  Number of admissions   \n",
      "\n",
      "  Sex_x   Value_x                                       ICD10 Code_y  \\\n",
      "0   NaN  11011882                                          All codes   \n",
      "1   NaN  11011882                                          All codes   \n",
      "2   NaN  11011882                                          All codes   \n",
      "3   NaN  11011882  C33-C34 & C00-C14 & C15 & C32 & C53 & C67 & C6...   \n",
      "4   NaN  11011882  C33-C34 & C00-C14 & C15 & C32 & C53 & C67 & C6...   \n",
      "\n",
      "                           ICD10 Diagnosis_y  \\\n",
      "0                                 All deaths   \n",
      "1                                 All deaths   \n",
      "2                                 All deaths   \n",
      "3  All deaths which can be caused by smoking   \n",
      "4  All deaths which can be caused by smoking   \n",
      "\n",
      "                            Diagnosis Type_y  ...  \\\n",
      "0                                 All deaths  ...   \n",
      "1                                 All deaths  ...   \n",
      "2                                 All deaths  ...   \n",
      "3  All deaths which can be caused by smoking  ...   \n",
      "4  All deaths which can be caused by smoking  ...   \n",
      "\n",
      "  Net Ingredient Cost of Bupropion (Zyban)  \\\n",
      "0                                      807   \n",
      "1                                      807   \n",
      "2                                      807   \n",
      "3                                      807   \n",
      "4                                      807   \n",
      "\n",
      "  Net Ingredient Cost of Varenicline (Champix)    Method     Sex  16 and Over  \\\n",
      "0                                      19129.0  Weighted    Male           19   \n",
      "1                                      19129.0  Weighted    Male           20   \n",
      "2                                      19129.0  Weighted  Female           17   \n",
      "3                                      19129.0  Weighted    Male           19   \n",
      "4                                      19129.0  Weighted    Male           20   \n",
      "\n",
      "   16-24  25-34  35-49  50-59  60 and Over  \n",
      "0     23     24     21     19           11  \n",
      "1     25     26     22     20           12  \n",
      "2     21     22     20     18           11  \n",
      "3     23     24     21     19           11  \n",
      "4     25     26     22     20           12  \n",
      "\n",
      "[5 rows x 37 columns]\n"
     ]
    }
   ],
   "source": [
    "# Merge datasets on 'Year'\n",
    "combined_data = pd.merge(admissions, fatalities, on='Year', how='inner')\n",
    "combined_data = pd.merge(combined_data, metrics, on='Year', how='inner')\n",
    "combined_data = pd.merge(combined_data, prescriptions, on='Year', how='inner')\n",
    "combined_data = pd.merge(combined_data, smokers, on='Year', how='inner')\n",
    "\n",
    "# Preview the combined dataset\n",
    "print(combined_data.head())\n"
   ]
  },
  {
   "cell_type": "code",
   "execution_count": 8,
   "metadata": {},
   "outputs": [],
   "source": [
    "# Convert relevant columns to numeric\n",
    "combined_data['Value_x'] = pd.to_numeric(combined_data['Value_x'], errors='coerce')\n",
    "combined_data['Value_y'] = pd.to_numeric(combined_data['Value_y'], errors='coerce')\n",
    "combined_data['Net Ingredient Cost of Bupropion (Zyban)'] = pd.to_numeric(\n",
    "    combined_data['Net Ingredient Cost of Bupropion (Zyban)'], errors='coerce'\n",
    ")\n",
    "combined_data['Net Ingredient Cost of Varenicline (Champix)'] = pd.to_numeric(\n",
    "    combined_data['Net Ingredient Cost of Varenicline (Champix)'], errors='coerce'\n",
    ")\n"
   ]
  },
  {
   "cell_type": "code",
   "execution_count": 9,
   "metadata": {},
   "outputs": [
    {
     "name": "stdout",
     "output_type": "stream",
     "text": [
      "   Year       Value_x       Value_y  Net Ingredient Cost of Bupropion (Zyban)  \\\n",
      "0  2004  1.457354e+10  1.938580e+09                                 464378103   \n",
      "1  2005  1.520483e+10  1.915705e+09                                 417137931   \n",
      "2  2006  1.552625e+10  1.849890e+09                                 389010195   \n",
      "3  2007  1.596715e+10  1.832825e+09                                 349973946   \n",
      "4  2008  2.058274e+10  1.848246e+09                                 193197879   \n",
      "\n",
      "   Net Ingredient Cost of Varenicline (Champix)  16 and Over      16-24  \\\n",
      "0                                  0.000000e+00    24.666667  29.000000   \n",
      "1                                  0.000000e+00    24.000000  28.666667   \n",
      "2                                  6.851628e+07    22.000000  25.333333   \n",
      "3                                  1.957582e+09    21.000000  26.000000   \n",
      "4                                  2.226238e+09    21.333333  26.333333   \n",
      "\n",
      "       25-34      35-49      50-59  60 and Over  \n",
      "0  31.333333  29.333333  24.333333    14.333333  \n",
      "1  31.333333  27.333333  24.000000    13.666667  \n",
      "2  29.666667  25.333333  22.333333    12.333333  \n",
      "3  26.000000  24.000000  21.333333    12.333333  \n",
      "4  27.333333  24.000000  21.666667    12.666667  \n"
     ]
    }
   ],
   "source": [
    "# Define aggregation rules\n",
    "aggregation_rules = {\n",
    "    'Value_x': 'sum',  # Sum of admissions\n",
    "    'Value_y': 'sum',  # Sum of fatalities\n",
    "    'Net Ingredient Cost of Bupropion (Zyban)': 'sum',\n",
    "    'Net Ingredient Cost of Varenicline (Champix)': 'sum',\n",
    "    '16 and Over': 'mean',  # Average smoking rate for the 16+ demographic\n",
    "    '16-24': 'mean',       # Average smoking rate for the 16-24 age group\n",
    "    '25-34': 'mean',\n",
    "    '35-49': 'mean',\n",
    "    '50-59': 'mean',\n",
    "    '60 and Over': 'mean'\n",
    "}\n",
    "\n",
    "# Group by Year and aggregate\n",
    "aggregated_data = combined_data.groupby('Year').agg(aggregation_rules).reset_index()\n",
    "\n",
    "# Preview the corrected aggregated dataset\n",
    "print(aggregated_data.head())"
   ]
  },
  {
   "cell_type": "code",
   "execution_count": 10,
   "metadata": {},
   "outputs": [
    {
     "name": "stdout",
     "output_type": "stream",
     "text": [
      "Integrated dataset saved as 'integrated_tobacco_data.csv'.\n"
     ]
    }
   ],
   "source": [
    "# Save the final integrated dataset\n",
    "aggregated_data.to_csv('integrated_tobacco_data.csv', index=False)\n",
    "print(\"Integrated dataset saved as 'integrated_tobacco_data.csv'.\")\n"
   ]
  },
  {
   "cell_type": "code",
   "execution_count": null,
   "metadata": {},
   "outputs": [],
   "source": []
  }
 ],
 "metadata": {
  "kernelspec": {
   "display_name": "base",
   "language": "python",
   "name": "python3"
  },
  "language_info": {
   "codemirror_mode": {
    "name": "ipython",
    "version": 3
   },
   "file_extension": ".py",
   "mimetype": "text/x-python",
   "name": "python",
   "nbconvert_exporter": "python",
   "pygments_lexer": "ipython3",
   "version": "3.12.4"
  }
 },
 "nbformat": 4,
 "nbformat_minor": 2
}
